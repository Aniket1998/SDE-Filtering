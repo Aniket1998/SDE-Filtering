{
 "cells": [
  {
   "cell_type": "code",
   "execution_count": 11,
   "metadata": {},
   "outputs": [],
   "source": [
    "import numpy as np\n",
    "import matplotlib.pyplot as plt"
   ]
  },
  {
   "cell_type": "code",
   "execution_count": 12,
   "metadata": {},
   "outputs": [],
   "source": [
    "def benes_sde(n_timesteps, dt, sigma_q=1.0, m_0=0.0, sigma_0=1.0, sub_step=10):\n",
    "    times = np.zeros(n_timesteps + 1)\n",
    "    x_T = np.zeros(n_timesteps + 1)\n",
    "    \n",
    "    x_0 = m_0 + float(np.random.randn()) * sigma_0 \n",
    "    \n",
    "    times[0] = 0\n",
    "    x_T[0] = x_0\n",
    "    d_dt = dt / sub_step\n",
    "    \n",
    "    for t in range(1, n_timesteps + 1):\n",
    "        \n",
    "        x_int = x_T[t - 1]\n",
    "        \n",
    "        for _ in range(sub_step):\n",
    "            eps_t = float(np.random.randn()) * sigma_q * np.sqrt(d_dt)\n",
    "            dx_t = np.tanh(x_int) * d_dt + eps_t\n",
    "            x_int = x_int + dx_t\n",
    "        \n",
    "        x_T[t] = x_int\n",
    "        times[t] = times[t - 1] + dt\n",
    "    \n",
    "    return x_T, times"
   ]
  },
  {
   "cell_type": "code",
   "execution_count": 13,
   "metadata": {},
   "outputs": [],
   "source": [
    "def observation_model(x_T, H=1.0, sigma_r=1.0):\n",
    "    eps_T = np.random.randn(len(x_T) - 1) * sigma_r\n",
    "    y_T = H * x_T[1:] + eps_T\n",
    "    return y_T"
   ]
  },
  {
   "cell_type": "code",
   "execution_count": 14,
   "metadata": {},
   "outputs": [],
   "source": [
    "def sde_ekf(y_T, dt, m_0=0.0, sigma_0=1.0, H=1.0, sigma_q=1.0, sigma_r=1.0, sub_step=10):\n",
    "    m_prev = m_0\n",
    "    P_prev = sigma_0 ** 2\n",
    "    \n",
    "    m_filter = np.zeros(len(y_T))\n",
    "    P_filter = np.zeros(len(y_T))\n",
    "    \n",
    "    d_dt = dt / sub_step\n",
    "    for t in range(len(y_T)):\n",
    "        \n",
    "        # Prediction Step: Solve by Numerical Integration\n",
    "        m_int = m_prev\n",
    "        P_int = P_prev\n",
    "        \n",
    "        for _ in range(sub_step):\n",
    "            increment_m = np.tanh(m_int) \n",
    "            increment_P = 2 * (1 - np.tanh(m_int) ** 2) * P_int + sigma_q ** 2\n",
    "            m_int = m_int + increment_m * d_dt\n",
    "            P_int = P_int + increment_P * d_dt\n",
    "        \n",
    "        # Update Step: Same as Regular Kalman Filter\n",
    "        v = y_T[t] - H * m_int\n",
    "        S = H * H * P_int + sigma_r ** 2\n",
    "        K = P_int * H / S\n",
    "        \n",
    "        m_prev = m_int + K * v\n",
    "        P_prev = P_int - K * K * S\n",
    "        \n",
    "        m_filter[t] = m_prev\n",
    "        P_filter[t] = P_prev\n",
    "    \n",
    "    return m_filter, P_filter"
   ]
  },
  {
   "cell_type": "code",
   "execution_count": 15,
   "metadata": {},
   "outputs": [],
   "source": [
    "def sde_ckf(y_T, dt, m_0=0.0, sigma_0=1.0, H=1.0, sigma_q=1.0, sigma_r=1.0, sub_step=10):\n",
    "    m_prev = m_0\n",
    "    P_prev = sigma_0 ** 2\n",
    "    \n",
    "    m_filter = np.zeros(len(y_T))\n",
    "    P_filter = np.zeros(len(y_T))\n",
    "    \n",
    "    d_dt = dt / sub_step\n",
    "    for t in range(len(y_T)):\n",
    "        \n",
    "        # Prediction Step: Solve by Numerical Integration\n",
    "        m_int = m_prev\n",
    "        P_int = P_prev\n",
    "        \n",
    "        for _ in range(sub_step):\n",
    "            m1 = m_int + np.sqrt(P_int)\n",
    "            m2 = m_int - np.sqrt(P_int)\n",
    "            \n",
    "            increment_m = 0.5 * (np.tanh(m1) + np.tanh(m2))\n",
    "            increment_P = np.sqrt(P_int) * (np.tanh(m1) - np.tanh(m2)) + sigma_q ** 2\n",
    "            \n",
    "            m_int = m_int + increment_m * d_dt\n",
    "            P_int = P_int + increment_P * d_dt\n",
    "        \n",
    "        # Update Step: Same as Regular Kalman Filter\n",
    "        v = y_T[t] - H * m_int\n",
    "        S = H * H * P_int + sigma_r ** 2\n",
    "        K = P_int * H / S\n",
    "        \n",
    "        m_prev = m_int + K * v\n",
    "        P_prev = P_int - K * K * S\n",
    "        \n",
    "        m_filter[t] = m_prev\n",
    "        P_filter[t] = P_prev\n",
    "    \n",
    "    return m_filter, P_filter"
   ]
  },
  {
   "cell_type": "code",
   "execution_count": 16,
   "metadata": {},
   "outputs": [],
   "source": [
    "n_timesteps = 1000\n",
    "dt = 0.01\n",
    "sigma_q = 0.5\n",
    "m_0 = 1.0\n",
    "sigma_0 = 1.0\n",
    "sub_step = 10\n",
    "H = 1.0\n",
    "sigma_r = 1.0"
   ]
  },
  {
   "cell_type": "code",
   "execution_count": 17,
   "metadata": {},
   "outputs": [],
   "source": [
    "x_T, t_T = benes_sde(n_timesteps, dt, sigma_q, m_0, sigma_0, sub_step)\n",
    "y_T = observation_model(x_T, H, sigma_r)"
   ]
  },
  {
   "cell_type": "code",
   "execution_count": 18,
   "metadata": {},
   "outputs": [
    {
     "name": "stdout",
     "output_type": "stream",
     "text": [
      "RMS of Baseline : 0.9936323592456641\n",
      "RMS of EKF: 0.04267374099695468\n",
      "RMS of CKF: 0.04263537737997333\n"
     ]
    }
   ],
   "source": [
    "m_ekf, P_ekf = sde_ekf(y_T, dt, m_0, sigma_0, H, sigma_q, sigma_r, sub_step)\n",
    "m_ckf, P_ckf = sde_ckf(y_T, dt, m_0, sigma_0, H, sigma_q, sigma_r, sub_step)\n",
    "\n",
    "rms_baseline = np.mean((x_T[1:] - y_T) ** 2)\n",
    "rms_ekf = np.mean((x_T[1:] - m_ekf) ** 2)\n",
    "rms_ckf = np.mean((x_T[1:] - m_ckf) ** 2)\n",
    "\n",
    "print('RMS of Baseline : {}'.format(rms_baseline))\n",
    "print('RMS of EKF: {}'.format(rms_ekf))\n",
    "print('RMS of CKF: {}'.format(rms_ckf))"
   ]
  },
  {
   "cell_type": "code",
   "execution_count": 19,
   "metadata": {},
   "outputs": [
    {
     "data": {
      "text/plain": [
       "<matplotlib.legend.Legend at 0x7fa4007a1f28>"
      ]
     },
     "execution_count": 19,
     "metadata": {},
     "output_type": "execute_result"
    },
    {
     "data": {
      "image/png": "[encoded data removed]",
      "text/plain": [
       "<Figure size 432x288 with 1 Axes>"
      ]
     },
     "metadata": {},
     "output_type": "display_data"
    }
   ],
   "source": [
    "plt.plot(t_T[1:], y_T, linewidth=0.2, label='Observations')\n",
    "plt.plot(t_T, x_T, label='States')\n",
    "plt.plot(t_T[1:], m_ekf, label='EKF Mean')\n",
    "plt.plot(t_T[1:], m_ckf, label='CKF Mean')\n",
    "plt.xlabel('Time')\n",
    "plt.ylabel('Measurement')\n",
    "plt.title('Benes-Daum Filter')\n",
    "plt.legend()"
   ]
  },
  {
   "cell_type": "code",
   "execution_count": 20,
   "metadata": {},
   "outputs": [
    {
     "name": "stderr",
     "output_type": "stream",
     "text": [
      "\n",
      "  0%|          | 0/10 [00:00<?, ?it/s]\u001b[A\n",
      " 10%|█         | 1/10 [00:00<00:01,  7.59it/s]\u001b[A\n",
      " 20%|██        | 2/10 [00:00<00:01,  7.56it/s]\u001b[A\n",
      " 30%|███       | 3/10 [00:00<00:00,  7.57it/s]\u001b[A\n",
      " 40%|████      | 4/10 [00:00<00:00,  7.55it/s]\u001b[A\n",
      " 50%|█████     | 5/10 [00:00<00:00,  7.49it/s]\u001b[A\n",
      " 60%|██████    | 6/10 [00:00<00:00,  7.53it/s]\u001b[A\n",
      " 70%|███████   | 7/10 [00:00<00:00,  7.60it/s]\u001b[A\n",
      " 80%|████████  | 8/10 [00:01<00:00,  7.62it/s]\u001b[A\n",
      " 90%|█████████ | 9/10 [00:01<00:00,  7.66it/s]\u001b[A\n",
      "100%|██████████| 10/10 [00:01<00:00,  7.67it/s]\u001b[A\n",
      "\u001b[A"
     ]
    },
    {
     "name": "stdout",
     "output_type": "stream",
     "text": [
      "1.0019698250791582 0.050192236076210206 0.05021215063941932\n"
     ]
    }
   ],
   "source": [
    "import tqdm\n",
    "n_rep = 10\n",
    "rms_b = 0.0\n",
    "rms_e = 0.0\n",
    "rms_c = 0.0\n",
    "\n",
    "for _ in tqdm.tqdm(range(n_rep)):\n",
    "    x_T, t_T = benes_sde(n_timesteps, dt, sigma_q, m_0, sigma_0, sub_step)\n",
    "    y_T = observation_model(x_T, H, sigma_r)\n",
    "    m_ekf, P_ekf = sde_ekf(y_T, dt, m_0, sigma_0, H, sigma_q, sigma_r, sub_step)\n",
    "    m_ckf, P_ckf = sde_ckf(y_T, dt, m_0, sigma_0, H, sigma_q, sigma_r, sub_step)\n",
    "    rms_b += np.mean((x_T[1:] - y_T) ** 2)\n",
    "    rms_e += np.mean((x_T[1:] - m_ekf) ** 2)\n",
    "    rms_c += np.mean((x_T[1:] - m_ckf) ** 2)\n",
    "    \n",
    "print(rms_b / n_rep, rms_e / n_rep, rms_c / n_rep)"
   ]
  },
  {
   "cell_type": "code",
   "execution_count": null,
   "metadata": {},
   "outputs": [],
   "source": []
  }
 ],
 "metadata": {
  "kernelspec": {
   "display_name": "Python 3",
   "language": "python",
   "name": "python3"
  },
  "language_info": {
   "codemirror_mode": {
    "name": "ipython",
    "version": 3
   },
   "file_extension": ".py",
   "mimetype": "text/x-python",
   "name": "python",
   "nbconvert_exporter": "python",
   "pygments_lexer": "ipython3",
   "version": "3.6.8"
  }
 },
 "nbformat": 4,
 "nbformat_minor": 2
}
